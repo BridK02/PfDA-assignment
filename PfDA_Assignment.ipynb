{
 "cells": [
  {
   "cell_type": "markdown",
   "id": "029e58c5",
   "metadata": {},
   "source": [
    "# Programming for Data Analysis Assignment"
   ]
  },
  {
   "cell_type": "markdown",
   "id": "1d84637d",
   "metadata": {},
   "source": [
    "# Assignment Brief \n",
    "For this project you must create a data set by simulating a real-world phenomenon of your choosing. You may pick any phenomenon you wish – you might pick one that is of interest to you in your personal or professional life. Then, rather than collect data\n",
    "related to the phenomenon, you should model and synthesise such data using Python. We suggest you use the numpy.random package for this purpose.\n",
    "Specifically, in this project you should:\n",
    "- Choose a real-world phenomenon that can be measured and for which you could collect at least one-hundred data points across at least four different variables.\n",
    "- Investigate the types of variables involved, their likely distributions, and their relationships with each other.\n",
    "- Synthesise/simulate a data set as closely matching their properties as possible.\n",
    "- Detail your research and implement the simulation in a Jupyter notebook – the data set itself can simply be displayed in an output cell within the notebook.\n",
    "\n",
    "**Note that this project is about simulation – you must synthesise a data set. Some students may already have some real-world data sets in their own files. It is okay to base your synthesised data set on these should you wish (please reference it if you do), but the main task in this project is to create a synthesised data set.**"
   ]
  },
  {
   "cell_type": "markdown",
   "id": "9f1410b8",
   "metadata": {},
   "source": [
    "# PROJECT SUBJECT\n",
    "I work in a pharmacy so I'm thinking of analysing the number of monthly dispensings per individual by looking at variables such as age, scheme type (gms, dps, pr), maybe whether there is a longterm illness and activity levels (maybe in steps), could think about seasonally impact (eg winter flus, immune suppresion)"
   ]
  },
  {
   "cell_type": "raw",
   "id": "17e76b41",
   "metadata": {},
   "source": [
    "A useful reference article that discusses the pharmacy related data held by the HSE PCRS (Irish Health Service Executive-Primary Care Reimbursement Service) is the article [Pharmacoepidemiology resources in Ireland—an introduction to pharmacy claims data] (1) (https://www.ncbi.nlm.nih.gov/pmc/articles/PMC5662670/) \n",
    "\n",
    "Link to the [HSE PCRS annual reports](https://www.sspcrs.ie/portal/annual-reporting/) \n",
    "\n",
    "***\n",
    "The aricle by *Sinnott et al.* 2017 states that in 2015, almost 40% of the population (1.7 million people) were in receipt of public health insurance, or covered by the GMS scheme (known as medical card holders). Qualification for the GMS scheme is on the basis of income-related means-testing. According to the PCRS annual report this number was approx 30% or 1.5 million people at the end of 2021.\n",
    "\n",
    "The remainder of the population not covered by the GMS scheme are referred to as being in the “private” tier. Individuals in the private health care system can receive government-subsidised access to prescription medications through the DP scheme. Under the DP scheme, an individual or a family is responsible for paying up to €80 per month for their medications. In 2014, 29% of the population accessed medication under this scheme [1](https://www.ncbi.nlm.nih.gov/pmc/articles/PMC5662670/). According to the PCRS annual report 38.2% of the population accessed medication through the GMS or the LTI (Long Term Illness) scheme.6.16% of the population used the DP scheme (308,000 people)\n"
   ]
  },
  {
   "cell_type": "markdown",
   "id": "8849cb07",
   "metadata": {},
   "source": [
    "An article published in [Real World Analytics pharmacy](https://www.realworldanalytics.com/pharmacy/en-ie/news/its-time-for-the-irish-healthcare-industry-to-step-into-the-data-driven-era/) which discusses the lack of available data from pharmacies in 2017 has indicated that the simulating of a dataset based on the availabilty of  Irish healthcare data may be hindered due to the Irish healtcare system publishing out of date and summarised data in comparison to, for example, the UK which through thr NHS publish payment data in its entirety about how each pharmacy and has performed each month. "
   ]
  },
  {
   "cell_type": "markdown",
   "id": "4e65de69",
   "metadata": {},
   "source": [
    "In Ireland, there are over 1,800 community pharmacies with the typical patient visiting a community pharmacy 19 times a year."
   ]
  },
  {
   "cell_type": "markdown",
   "id": "1bf53007",
   "metadata": {},
   "source": [
    "Refernces [Creating simulated data for classifications in Python](https://www.projectpro.io/recipes/create-simulated-data-for-classification-in-python)\n",
    "[Simulations in Python](https://discovery.cs.illinois.edu/learn/Simulation-and-Distributions/Simple-Simulations-in-Python/)"
   ]
  },
  {
   "cell_type": "code",
   "execution_count": null,
   "id": "716b6f85",
   "metadata": {},
   "outputs": [],
   "source": []
  }
 ],
 "metadata": {
  "kernelspec": {
   "display_name": "Python 3 (ipykernel)",
   "language": "python",
   "name": "python3"
  },
  "language_info": {
   "codemirror_mode": {
    "name": "ipython",
    "version": 3
   },
   "file_extension": ".py",
   "mimetype": "text/x-python",
   "name": "python",
   "nbconvert_exporter": "python",
   "pygments_lexer": "ipython3",
   "version": "3.9.13"
  }
 },
 "nbformat": 4,
 "nbformat_minor": 5
}
