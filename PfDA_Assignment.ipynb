{
 "cells": [
  {
   "cell_type": "code",
   "execution_count": 18,
   "id": "24adfb2a",
   "metadata": {},
   "outputs": [],
   "source": [
    "import pandas as pd\n",
    "import seaborn as sns #data visualisation library\n",
    "import matplotlib.pyplot as plt # allow me to plot the data\n",
    "import numpy as np\n"
   ]
  },
  {
   "cell_type": "markdown",
   "id": "029e58c5",
   "metadata": {},
   "source": [
    "# Programming for Data Analysis Assignment"
   ]
  },
  {
   "cell_type": "markdown",
   "id": "1d84637d",
   "metadata": {},
   "source": [
    "# Assignment Brief \n",
    "For this project you must create a data set by simulating a real-world phenomenon of your choosing. You may pick any phenomenon you wish – you might pick one that is of interest to you in your personal or professional life. Then, rather than collect data\n",
    "related to the phenomenon, you should model and synthesise such data using Python. We suggest you use the numpy.random package for this purpose.\n",
    "Specifically, in this project you should:\n",
    "- Choose a real-world phenomenon that can be measured and for which you could collect at least one-hundred data points across at least four different variables.\n",
    "- Investigate the types of variables involved, their likely distributions, and their relationships with each other.\n",
    "- Synthesise/simulate a data set as closely matching their properties as possible.\n",
    "- Detail your research and implement the simulation in a Jupyter notebook – the data set itself can simply be displayed in an output cell within the notebook.\n",
    "\n",
    "**Note that this project is about simulation – you must synthesise a data set. Some students may already have some real-world data sets in their own files. It is okay to base your synthesised data set on these should you wish (please reference it if you do), but the main task in this project is to create a synthesised data set.**"
   ]
  },
  {
   "cell_type": "markdown",
   "id": "9f1410b8",
   "metadata": {},
   "source": [
    "# PROJECT SUBJECT\n",
    "I work in a pharmacy so I'm thinking of analysing the number of monthly dispensings per individual by looking at variables such as age, sex, scheme type (gms, dps, pr), maybe whether there is a longterm illness and activity levels (maybe in steps), could think about seasonal impact (eg winter flus, immune suppresion)"
   ]
  },
  {
   "cell_type": "markdown",
   "id": "c0cdb278",
   "metadata": {},
   "source": [
    "Numpy’s random number routines produce pseudo random numbers using combinations of a BitGenerator to create sequences and a Generator to use those sequences to sample from different statistical distributions [^1].\n",
    "\n",
    "[^1]:(https://numpy.org/doc/stable/reference/random/index.html#module-numpy.random).\n"
   ]
  },
  {
   "cell_type": "markdown",
   "id": "3a3d2cf9",
   "metadata": {},
   "source": [
    "A useful reference article that discusses the pharmacy related data held by the HSE PCRS (Irish Health Service Executive-Primary Care Reimbursement Service) is the article [Pharmacoepidemiology resources in Ireland—an introduction to pharmacy claims data] (https://www.ncbi.nlm.nih.gov/pmc/articles/PMC5662670/) "
   ]
  },
  {
   "cell_type": "markdown",
   "id": "14c6bc3f",
   "metadata": {},
   "source": [
    "Link to the [HSE PCRS annual reports](https://www.sspcrs.ie/portal/annual-reporting/) "
   ]
  },
  {
   "cell_type": "markdown",
   "id": "46290fa9",
   "metadata": {},
   "source": [
    "The aricle by *Sinnott et al.* 2017 states that in 2015, almost 40% of the population (1.7 million people) were in receipt of public health insurance, or covered by the GMS scheme (known as medical card holders). Qualification for the GMS scheme is on the basis of income-related means-testing. According to the PCRS annual report this number was approx 30% or 1.5 million people at the end of 2021.\n",
    "\n",
    "The remainder of the population not covered by the GMS scheme are referred to as being in the “private” tier. Individuals in the private health care system can receive government-subsidised access to prescription medications through the DP scheme. Under the DP scheme, an individual or a family is responsible for paying up to €80 per month for their medications. In 2014, 29% of the population accessed medication under this scheme [1](https://www.ncbi.nlm.nih.gov/pmc/articles/PMC5662670/). According to the PCRS annual report 38.2% of the population accessed medication through the GMS or the LTI (Long Term Illness) scheme.6.16% of the population used the DP scheme (308,000 people)\n"
   ]
  },
  {
   "cell_type": "markdown",
   "id": "8849cb07",
   "metadata": {},
   "source": [
    "An article published in [Real World Analytics pharmacy](https://www.realworldanalytics.com/pharmacy/en-ie/news/its-time-for-the-irish-healthcare-industry-to-step-into-the-data-driven-era/) which discusses the lack of available data from pharmacies in 2017 has indicated that the simulating of a dataset based on the availabilty of  Irish healthcare data may be hindered due to the Irish healtcare system publishing out of date and summarised data in comparison to, for example, the UK which through thr NHS publish payment data in its entirety about how each pharmacy and has performed each month. "
   ]
  },
  {
   "cell_type": "markdown",
   "id": "4e65de69",
   "metadata": {},
   "source": [
    "In Ireland, there are over 1,800 community pharmacies with the typical patient visiting a community pharmacy 19 times a year."
   ]
  },
  {
   "cell_type": "markdown",
   "id": "1bf53007",
   "metadata": {},
   "source": [
    "References [Creating simulated data for classifications in Python](https://www.projectpro.io/recipes/create-simulated-data-for-classification-in-python)\n",
    "[Simulations in Python](https://discovery.cs.illinois.edu/learn/Simulation-and-Distributions/Simple-Simulations-in-Python/)"
   ]
  },
  {
   "cell_type": "markdown",
   "id": "849a4805",
   "metadata": {},
   "source": [
    "Data sources\n",
    "    A number of different types of data can be used in analyses of medicine utilization and expenditure. Data sources are divided into aggregated data and patient-level data. Aggregated data sets are those where the data are compiled as a summary statistic. For example, the number of units of stock of a medicine purchased each month or each year. Aggregated data do not include information on the provision of medicines to an individual person. Patient-level data are those where\n",
    "information on individual patients is available.\n",
    "[Methods to analyse medicine utilization and expenditure\n",
    "to support pharmaceutical policy implementation](https://apps.who.int/iris/bitstream/handle/10665/274282/9789241514040-eng.pdf)"
   ]
  },
  {
   "cell_type": "markdown",
   "id": "c537e2b2",
   "metadata": {},
   "source": [
    "In planning an analysis, it worth considering what measure of medicine use is required. Measures of medicine use can include an assessment of the amount of medicine procured, prescribed, supplied or used. The unit of measurement can include counts, volume or cost, and all of these units can be expressed as rates. The relevant population is commonly used as the denominator where rates are calculated.\n",
    "Another consideration for determining what analyses to undertake is the data set available. Many of the key questions to support pharmaceutical policy can be answered using aggregated data, particularly where the data are available for the whole programme or where the data sample is representative of the programme. Some questions can only be answered using patientlevel data and so cannot be answered if only aggregated data sets are available. "
   ]
  },
  {
   "cell_type": "markdown",
   "id": "8a03b09c",
   "metadata": {},
   "source": [
    "From the [PCRS Annual reporting website](https://www.sspcrs.ie/analytics/saw.dll?PortalPages) I have saved the data of the number of items claimed per pharmacy for 2021 as csv file to examine the distibuution so that I can simulate the data\n"
   ]
  },
  {
   "cell_type": "markdown",
   "id": "43e530d1",
   "metadata": {},
   "source": [
    "# **Dispensing data**  \n",
    "**Description:** Data on licensed medicines supplied to a patient by a dispensing officer (pharmacist or a doctor in  dispensing practice).\n",
    "    \n",
    "**Potential data sources:**\n",
    "* pharmacies,\n",
    "* medicine outlets or doctor dispensing practice records\n",
    "(electronic or manual form).\n",
    "  Where reimbursement of dispensing occurs, centralized data might be held by the payer (i.e. private insurer or government).\n",
    "  \n",
    "**Information usually available:**\n",
    "* patient identifier,\n",
    "* name of medicine dispensed,\n",
    "* dosage form,\n",
    "* strength,\n",
    "* quantity of medicines dispensed,\n",
    "* cost of each medicine dispensed.\n",
    "\n",
    "**Advantages:** There is often a legal requirement to document dispensing, thus data are usually recorded at the patient level. The data might include overthe-counter medicines and medicines supplied by a pharmacist that do not require a prescription from a physician but do require a dispensing record.A routine audit of all medicines dispensed by a representative sample of pharmacies in a country will provide a comprehensive database of all types of medicines.\n",
    "**Limitations:** The quantity of medicines dispensed will be subject to availability and this may vary depending on the procurement practice. In many instances, the data do not contain information about the problem, condition or diagnosis for which the medicines are dispensed, however, this is available in some data sets. Data may or may not be able to be linked to a prescriber.The data do not take into account compliance with therapy, thus dispensing data may not reflect the actual use (consumption) of medicines\n",
    "\n",
    "***\n",
    "\n",
    "# **Health claims data**\n",
    "**Description:** Health claims data for medicines that are subsidized or reimbursed by the government or private insurers.\n",
    "  \n",
    "**Potential data sources:**\n",
    "  - data held in either electronic or paper form by insurersmor agencies subsidizing medicine costs; insurers maymbe private health insurance companies or government agencies.\n",
    "\n",
    "**Information usually available:**\n",
    "* name of medicine,\n",
    "* dosage form,\n",
    "* strength,\n",
    "* quantity of medicine dispensed,\n",
    "* cost of each medicine dispensed.\n",
    "\n",
    "**Advantages:** The data provide information about aggregated medicine utilization for the insured population. Data may allow analyses at different levels of the health system (e.g. regional, national or individual). While not included in all data sets, some contain unique patient identifiers enabling patient-level analyses to be done.\n",
    "\n",
    "**Limitations:** The data are collected for administrativepurposes and thus may not include all relevant information for studies on medicine utilization. Data do not usually include over-the-counter medicines or prescribed medicines that are not subsidized or reimbursed. There are no data on medicines prescribed but never dispensed. The data are limited to the people covered by the subsidy or reimbursement programme, thus those segments of the population that are not covered by the programme are excluded. The databases do not capture information on medicines that are not covered by the subsidy or reimbursement programme.\n",
    "\n",
    "***\n"
   ]
  },
  {
   "cell_type": "code",
   "execution_count": 19,
   "id": "716b6f85",
   "metadata": {
    "scrolled": true
   },
   "outputs": [
    {
     "name": "stdout",
     "output_type": "stream",
     "text": [
      "ITEM_DESC\n",
      "1\n",
      "2\n",
      "3\n",
      "4\n",
      "5\n",
      "6\n",
      "7\n",
      "8+\n"
     ]
    }
   ],
   "source": [
    "#testing import of the items per claim form\n",
    "import csv\n",
    "\n",
    "filename = \"Analysis_Number_of_Items_per_Claim_Form.csv\"\n",
    "\n",
    "with open(filename, \"rt\") as csvfile:\n",
    "    csvReader = csv.reader(csvfile,delimiter=\",\")\n",
    "    for line in csvReader:\n",
    "        print (line[2]) #testing if I can extract the data from the Analysis_Number_of_Items_per_Claim_Form csv that I downloaded and saved into this jupyter notebook\n"
   ]
  },
  {
   "cell_type": "code",
   "execution_count": 20,
   "id": "185342c0",
   "metadata": {},
   "outputs": [
    {
     "name": "stdout",
     "output_type": "stream",
     "text": [
      "File Successfully written.\n"
     ]
    }
   ],
   "source": [
    "#To create a text file that has removed the commas\n",
    "txt_file = \"Analysis_Number_of_Items_per_Claim_Form.txt\"\n",
    "text_list = []\n",
    "\n",
    "with open(filename, \"r\") as my_input_file:\n",
    "    for line in my_input_file:\n",
    "        line = line.split(\",\", 5) #This CSV file contains \n",
    "        text_list.append(\" \".join(line))\n",
    "\n",
    "with open(txt_file, \"w\") as my_output_file:\n",
    "    my_output_file.write(\"#1\\n\")\n",
    "    my_output_file.write(\"double({},{})\\n\".format(len(text_list), 5))\n",
    "    for line in text_list:\n",
    "        my_output_file.write(\"  \" + line)\n",
    "    print('File Successfully written.')"
   ]
  },
  {
   "cell_type": "code",
   "execution_count": 21,
   "id": "bd2b41dd",
   "metadata": {},
   "outputs": [
    {
     "name": "stdout",
     "output_type": "stream",
     "text": [
      "     YR SCHEME ITEM_DESC  TOTAL_CLAIMS   PERC  REPORT_ORDER\n",
      "0  2021    GMS         1       7484226  40.69             1\n",
      "1  2021    GMS         2       3168107  17.22             2\n",
      "2  2021    GMS         3       1785109   9.70             3\n",
      "3  2021    GMS         4       1255472   6.83             4\n",
      "4  2021    GMS         5       1003850   5.46             5\n",
      "5  2021    GMS         6        847085   4.61             6\n",
      "6  2021    GMS         7        691107   3.76             7\n",
      "7  2021    GMS        8+       2159518  11.74             8\n"
     ]
    }
   ],
   "source": [
    "NoOfItems_df=pd.read_csv(\"Analysis_Number_of_Items_per_Claim_Form.csv\")\n",
    "print (NoOfItems_df)"
   ]
  },
  {
   "cell_type": "code",
   "execution_count": 26,
   "id": "5654bff8",
   "metadata": {},
   "outputs": [
    {
     "data": {
      "text/plain": [
       "[<matplotlib.lines.Line2D at 0x1d62a484880>]"
      ]
     },
     "execution_count": 26,
     "metadata": {},
     "output_type": "execute_result"
    },
    {
     "data": {
      "image/png": "[encoded data removed]",
      "text/plain": [
       "<Figure size 640x480 with 1 Axes>"
      ]
     },
     "metadata": {},
     "output_type": "display_data"
    }
   ],
   "source": [
    "y = NoOfItems_df[\"PERC\"]\n",
    "x = NoOfItems_df[\"ITEM_DESC\"]\n",
    "plt.plot(x, y, color = \"green\")\n"
   ]
  },
  {
   "cell_type": "markdown",
   "id": "b975526d",
   "metadata": {},
   "source": [
    "Numpy’s random number routines produce pseudo random numbers using combinations of a BitGenerator to create sequences and a Generator to use those sequences to sample from different statistical distributions"
   ]
  },
  {
   "cell_type": "code",
   "execution_count": 36,
   "id": "f723bd6f",
   "metadata": {},
   "outputs": [
    {
     "name": "stdout",
     "output_type": "stream",
     "text": [
      "['7' '8+' '5' '4' '6' '7' '7' '7' '4' '6' '2' '6' '8+' '3' '6' '1' '3' '5'\n",
      " '4' '4']\n"
     ]
    },
    {
     "data": {
      "image/png": "[encoded data removed]",
      "text/plain": [
       "<Figure size 640x480 with 1 Axes>"
      ]
     },
     "metadata": {},
     "output_type": "display_data"
    }
   ],
   "source": [
    "#For my synthesized dataset I want to simulate the no. of items per claim form as reported in the PCRS Annual report using \n",
    "# random.Generator from NumPy\n",
    "rng = np.random.default_rng()\n",
    "No_of_items_dispensed = [\"1\",\"2\",\"3\",\"4\",\"5\",\"6\",\"7\",\"8+\"] #\n",
    "results = rng.choice(No_of_items_dispensed, size=20)# asking for results to choose from the eight options and giving the first 20 random choices simulating 20 customers\n",
    "print(results)\n",
    "plt.hist(results)\n",
    "plt.show()\n"
   ]
  },
  {
   "cell_type": "markdown",
   "id": "ca4c4232",
   "metadata": {},
   "source": [
    "We can see above that all the options have appeared from the Number of items dispensed list but the option for \"one\" which represents >40 of the no. of items dispensed appeared only twice when I ran the code and \"seven\" items appeared 3 times out of the 20 customers, which is approx 15% when the actual data from PCRS says that 7 items per transaction accounts for 3.76%.\n",
    " \n",
    "The synthesised data from random choices needs to be weighted which I will do using the rounded percentages for each item from the PCRS data"
   ]
  },
  {
   "cell_type": "code",
   "execution_count": 38,
   "id": "cd8f123c",
   "metadata": {},
   "outputs": [
    {
     "name": "stdout",
     "output_type": "stream",
     "text": [
      "['1' '1' '1' '1' '3' '5' '1' '1' '1' '1' '8+' '1' '2' '5' '1' '1' '1' '1'\n",
      " '1' '2']\n"
     ]
    },
    {
     "data": {
      "image/png": "[encoded data removed]",
      "text/plain": [
       "<Figure size 640x480 with 1 Axes>"
      ]
     },
     "metadata": {},
     "output_type": "display_data"
    }
   ],
   "source": [
    "results = rng.choice(No_of_items_dispensed, size=20, p=[0.41, 0.17, 0.09, 0.07, 0.05, 0.05, 0.04, 0.12]) # asking for results to choose from the eight options and giving the first 20 random choices simulating 20 customer\n",
    "print(results)\n",
    "plt.hist(results)\n",
    "plt.show()"
   ]
  },
  {
   "cell_type": "markdown",
   "id": "6f66b422",
   "metadata": {},
   "source": [
    "The resulting synthesized data now more closely resembles the actual dispensing rates as published by the PCRS"
   ]
  },
  {
   "cell_type": "markdown",
   "id": "aab18dda",
   "metadata": {},
   "source": [
    "Total number of dispensed items per month of the year and relative changes -in 2020 & 2021 vs 2019 Impact of COVID-19 pandemic on community medication dispensing: a national cohort analysis in Wales, UK - Scientific Figure on ResearchGate. Available from: https://www.researchgate.net/figure/Total-number-of-dispensed-items-per-month-of-the-year-and-relative-changes-in-2020_fig2_360257846 [accessed 26 Nov, 2022))\n",
    "\n",
    "<a href=\"https://www.researchgate.net/figure/Total-number-of-dispensed-items-per-month-of-the-year-and-relative-changes-in-2020_fig2_360257846\"><img src=\"https://www.researchgate.net/publication/360257846/figure/fig2/AS:1165455603568648@1654877677452/Total-number-of-dispensed-items-per-month-of-the-year-and-relative-changes-in-2020.ppm\" alt=\"Total number of dispensed items per month of the year and relative changes -in 2020 & 2021 vs 2019\"/></a>"
   ]
  },
  {
   "cell_type": "markdown",
   "id": "79583fdb",
   "metadata": {},
   "source": [
    "https://www.youtube.com/watch?v=ioqCy-UmbNg"
   ]
  },
  {
   "cell_type": "code",
   "execution_count": null,
   "id": "ce46395b",
   "metadata": {},
   "outputs": [],
   "source": []
  },
  {
   "cell_type": "code",
   "execution_count": null,
   "id": "5ff01b19",
   "metadata": {},
   "outputs": [],
   "source": []
  },
  {
   "cell_type": "code",
   "execution_count": null,
   "id": "ce81c95b",
   "metadata": {},
   "outputs": [],
   "source": []
  },
  {
   "cell_type": "markdown",
   "id": "c5d9a441",
   "metadata": {},
   "source": []
  },
  {
   "cell_type": "code",
   "execution_count": null,
   "id": "666ebdd0",
   "metadata": {},
   "outputs": [],
   "source": []
  }
 ],
 "metadata": {
  "kernelspec": {
   "display_name": "Python 3 (ipykernel)",
   "language": "python",
   "name": "python3"
  },
  "language_info": {
   "codemirror_mode": {
    "name": "ipython",
    "version": 3
   },
   "file_extension": ".py",
   "mimetype": "text/x-python",
   "name": "python",
   "nbconvert_exporter": "python",
   "pygments_lexer": "ipython3",
   "version": "3.9.13"
  }
 },
 "nbformat": 4,
 "nbformat_minor": 5
}
