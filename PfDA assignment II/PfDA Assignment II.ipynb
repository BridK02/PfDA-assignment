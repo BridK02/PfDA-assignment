{
 "cells": [
  {
   "cell_type": "markdown",
   "id": "7c9d0653",
   "metadata": {},
   "source": [
    "#                                                Project II\n",
    "\n",
    "##                                       Programming for Data Analysis\n",
    "\n",
    "###                                 Investigation of the Wisconsin Breast Cancer dataset"
   ]
  },
  {
   "cell_type": "markdown",
   "id": "87c599d6",
   "metadata": {},
   "source": [
    "This project will investigate the Wisconsin Breast Cancer dataset. The following list presents the\n",
    "requirements of the project\n",
    "* Undertake an analysis/review of the dataset and present an overview and background.\n",
    "* Provide a literature review on classifiers which have been applied to the dataset and\n",
    "compare their performance\n",
    "* Present a statistical analysis of the dataset\n",
    "* Using a range of machine learning algorithms, train a set of classifiers on the dataset (using\n",
    "SKLearn etc.) and present classification performance results. Detail your rationale for the\n",
    "parameter selections you made while training the classifiers.\n",
    "* Compare, contrast and critique your results with reference to the literature\n",
    "* Discuss and investigate how the dataset could be extended – using data synthesis of new\n",
    "tumour datapoints\n",
    "* Document your work in a Jupyter notebook.\n",
    "* As a suggestion, you could use Pandas, Seaborn, SKLearn, etc. to perform your analysis.\n",
    "* Please use GitHub to demonstrate research, progress and consistency.\n"
   ]
  },
  {
   "cell_type": "code",
   "execution_count": null,
   "id": "264358c0",
   "metadata": {},
   "outputs": [],
   "source": []
  },
  {
   "cell_type": "code",
   "execution_count": null,
   "id": "53ff75e6",
   "metadata": {},
   "outputs": [],
   "source": []
  },
  {
   "cell_type": "code",
   "execution_count": null,
   "id": "8a745dd7",
   "metadata": {},
   "outputs": [],
   "source": []
  },
  {
   "cell_type": "code",
   "execution_count": null,
   "id": "8e0f8cb5",
   "metadata": {},
   "outputs": [],
   "source": []
  },
  {
   "cell_type": "code",
   "execution_count": null,
   "id": "986374cf",
   "metadata": {},
   "outputs": [],
   "source": []
  }
 ],
 "metadata": {
  "kernelspec": {
   "display_name": "Python 3 (ipykernel)",
   "language": "python",
   "name": "python3"
  },
  "language_info": {
   "codemirror_mode": {
    "name": "ipython",
    "version": 3
   },
   "file_extension": ".py",
   "mimetype": "text/x-python",
   "name": "python",
   "nbconvert_exporter": "python",
   "pygments_lexer": "ipython3",
   "version": "3.9.13"
  }
 },
 "nbformat": 4,
 "nbformat_minor": 5
}
