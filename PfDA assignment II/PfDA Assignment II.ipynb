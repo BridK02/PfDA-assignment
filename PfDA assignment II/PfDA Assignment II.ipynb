{
 "cells": [
  {
   "cell_type": "markdown",
   "id": "7c9d0653",
   "metadata": {},
   "source": [
    "#                                                Project II\n",
    "\n",
    "##                                       Programming for Data Analysis\n",
    "\n",
    "###                                 Investigation of the Wisconsin Breast Cancer dataset"
   ]
  },
  {
   "cell_type": "markdown",
   "id": "87c599d6",
   "metadata": {},
   "source": [
    "This project will investigate the Wisconsin Breast Cancer dataset. The following list presents the\n",
    "requirements of the project\n",
    "* Undertake an analysis/review of the dataset and present an overview and background.\n",
    "* Provide a literature review on classifiers which have been applied to the dataset and\n",
    "compare their performance\n",
    "* Present a statistical analysis of the dataset\n",
    "* Using a range of machine learning algorithms, train a set of classifiers on the dataset (using\n",
    "SKLearn etc.) and present classification performance results. Detail your rationale for the\n",
    "parameter selections you made while training the classifiers.\n",
    "* Compare, contrast and critique your results with reference to the literature\n",
    "* Discuss and investigate how the dataset could be extended – using data synthesis of new\n",
    "tumour datapoints\n",
    "* Document your work in a Jupyter notebook.\n",
    "* As a suggestion, you could use Pandas, Seaborn, SKLearn, etc. to perform your analysis.\n",
    "* Please use GitHub to demonstrate research, progress and consistency.\n"
   ]
  },
  {
   "cell_type": "markdown",
   "id": "342b771c",
   "metadata": {},
   "source": [
    "# Literature Review\n",
    "\n",
    "Breast cancer is the second leading cause of death among women worldwide [^1].\n",
    "\n",
    "The method that can confirm malignancy accurately with a high sensitivity is a surgical biopsy, a costly and painful procedure.\n",
    "To this end modern classification techniques attempt to replicate the accuracy of a biopsy, without the negative\n",
    "aspects of a surgical biopsy.\n",
    "\n",
    "\n",
    "\n",
    "\n",
    "\n",
    "\n",
    "\n",
    "\n",
    "\n",
    "\n",
    "\n",
    "\n",
    "[^1]: U.S. Cancer Statistics Working Group. United States Cancer Statistics: 1999–2008 Incidence and Mortality Web-based Report. Atlanta (GA): Department of Health and Human Services, Centers for Disease Control\n",
    "\n",
    "[Silva, Jesús, et al. \"Integration of data mining classification techniques and ensemble learning for predicting the type of breast cancer recurrence.\" International Conference on Green, Pervasive, and Cloud Computing. Springer, Cham, 2019.](https://link.springer.com/chapter/10.1007/978-3-030-19223-5_2)\n",
    "\n",
    "Ojha U., Goel, S.: A study on prediction of breast cancer recurrence using data mining techniques. In: 7th International Conference on Cloud Computing, Data Science & Engineering-Confluence, IEEE, pp. 527–530, 201\n",
    "\n",
    "Pritom, A.I., Munshi, M.A.R., Sabab, S.A., Shihab, S.: Predicting breast cancer recurrence using effective classification and feature selection technique. In: 19th International Conference on Computer and Information Technology (ICCIT), pp. 310–314. IEEE (2016)\n",
    "\n",
    "[Asri, Hiba, et al. \"Using machine learning algorithms for breast cancer risk prediction and diagnosis.\" Procedia Computer Science 83 (2016): 1064-1069.](https://www.sciencedirect.com/science/article/pii/S1877050916302575)\n",
    "\n",
    "\n",
    "[Vig, L. (2014). Comparative analysis of different classifiers for the Wisconsin breast cancer dataset. Open Access Library Journal, 1(06), 1.](https://www.ncbi.nlm.nih.gov/pmc/articles/PMC7351679/)\n",
    "\n",
    "[Mohammed SA, Darrab S, Noaman SA, Saake G. Analysis of Breast Cancer Detection Using Different Machine Learning Techniques. Data Mining and Big Data. 2020 Jul 11;1234:108–17. doi: 10.1007/978-981-15-7205-0_10. PMCID: PMC7351679.](https://file.scirp.org/pdf/OALibJ_2016031015403611.pdf)"
   ]
  },
  {
   "cell_type": "code",
   "execution_count": null,
   "id": "156b6440",
   "metadata": {},
   "outputs": [],
   "source": []
  },
  {
   "cell_type": "code",
   "execution_count": null,
   "id": "7efe4fd0",
   "metadata": {},
   "outputs": [],
   "source": []
  },
  {
   "cell_type": "code",
   "execution_count": null,
   "id": "a0f7dd15",
   "metadata": {},
   "outputs": [],
   "source": []
  },
  {
   "cell_type": "code",
   "execution_count": null,
   "id": "7c39d4a4",
   "metadata": {},
   "outputs": [],
   "source": []
  },
  {
   "cell_type": "code",
   "execution_count": null,
   "id": "53ff75e6",
   "metadata": {},
   "outputs": [],
   "source": []
  },
  {
   "cell_type": "code",
   "execution_count": null,
   "id": "8a745dd7",
   "metadata": {},
   "outputs": [],
   "source": []
  },
  {
   "cell_type": "code",
   "execution_count": null,
   "id": "25823259",
   "metadata": {},
   "outputs": [],
   "source": []
  },
  {
   "cell_type": "markdown",
   "id": "78cc6c42",
   "metadata": {},
   "source": [
    "touch references.bib\n"
   ]
  }
 ],
 "metadata": {
  "kernelspec": {
   "display_name": "Python 3 (ipykernel)",
   "language": "python",
   "name": "python3"
  },
  "language_info": {
   "codemirror_mode": {
    "name": "ipython",
    "version": 3
   },
   "file_extension": ".py",
   "mimetype": "text/x-python",
   "name": "python",
   "nbconvert_exporter": "python",
   "pygments_lexer": "ipython3",
   "version": "3.9.13"
  }
 },
 "nbformat": 4,
 "nbformat_minor": 5
}
